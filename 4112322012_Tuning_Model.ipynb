{
  "nbformat": 4,
  "nbformat_minor": 0,
  "metadata": {
    "colab": {
      "provenance": []
    },
    "kernelspec": {
      "name": "python3",
      "display_name": "Python 3"
    },
    "language_info": {
      "name": "python"
    }
  },
  "cells": [
    {
      "cell_type": "markdown",
      "source": [
        "Tri Utami Gita Cahyani / 4112322012 / Statistika Terapan dan Komputasi"
      ],
      "metadata": {
        "id": "2ATPxY8CwnWw"
      }
    },
    {
      "cell_type": "markdown",
      "source": [
        "# Dataset"
      ],
      "metadata": {
        "id": "ymi2xFjqxJaG"
      }
    },
    {
      "cell_type": "markdown",
      "source": [
        "Dataset dapat didownload pada link berikut https://bit.ly/datatuning\n",
        "\n",
        "Dataset ini berisi informasi mengenai pengajuan pinjaman oleh individu, dengan berbagai fitur yang dapat memengaruhi keputusan persetujuan pinjaman. Tujuan utama dari dataset ini\n",
        "adalah untuk membangun model Machine Learning yang dapat memprediksi apakah suatu pengajuan pinjaman akan disetujui (Loan_Approval = 1) atau ditolak (Loan_Approval = 0)\n",
        "berdasarkan karakteristik pemohon."
      ],
      "metadata": {
        "id": "dbKOnfkqxr_R"
      }
    },
    {
      "cell_type": "code",
      "source": [
        "import pandas as pd"
      ],
      "metadata": {
        "id": "gApYxLIxxd7p"
      },
      "execution_count": 1,
      "outputs": []
    },
    {
      "cell_type": "code",
      "execution_count": 2,
      "metadata": {
        "id": "LGDrH1OHwhBF",
        "colab": {
          "base_uri": "https://localhost:8080/"
        },
        "outputId": "19d6bd2e-7d9d-4a3b-f447-bca4aacf05d1"
      },
      "outputs": [
        {
          "output_type": "stream",
          "name": "stdout",
          "text": [
            "--2025-03-16 05:04:32--  https://raw.githubusercontent.com/geetacahya/4112322012_Tuning-Model/refs/heads/main/loan_approval_dataset.csv\n",
            "Resolving raw.githubusercontent.com (raw.githubusercontent.com)... 185.199.108.133, 185.199.109.133, 185.199.110.133, ...\n",
            "Connecting to raw.githubusercontent.com (raw.githubusercontent.com)|185.199.108.133|:443... connected.\n",
            "HTTP request sent, awaiting response... 200 OK\n",
            "Length: 18213 (18K) [text/plain]\n",
            "Saving to: ‘loan_approval_dataset.csv’\n",
            "\n",
            "loan_approval_datas 100%[===================>]  17.79K  --.-KB/s    in 0.001s  \n",
            "\n",
            "2025-03-16 05:04:32 (25.3 MB/s) - ‘loan_approval_dataset.csv’ saved [18213/18213]\n",
            "\n"
          ]
        }
      ],
      "source": [
        "!wget https://raw.githubusercontent.com/geetacahya/4112322012_Tuning-Model/refs/heads/main/loan_approval_dataset.csv"
      ]
    },
    {
      "cell_type": "code",
      "source": [
        "df = pd.read_csv('loan_approval_dataset.csv')\n",
        "df.head()"
      ],
      "metadata": {
        "id": "gmRdNJckwmnK",
        "colab": {
          "base_uri": "https://localhost:8080/",
          "height": 206
        },
        "outputId": "414006c7-45c2-4b7d-b89e-4dd3559e345a"
      },
      "execution_count": 3,
      "outputs": [
        {
          "output_type": "execute_result",
          "data": {
            "text/plain": [
              "   Age  Income Education_Level  Credit_Score  Loan_Amount Loan_Purpose  \\\n",
              "0   56   24000             PhD           333        26892     Personal   \n",
              "1   46   90588          Master           316        26619         Home   \n",
              "2   32  113610             PhD           452         1281     Personal   \n",
              "3   60  117856     High School           677        28420     Personal   \n",
              "4   25   58304             PhD           641        16360          Car   \n",
              "\n",
              "   Loan_Approval  \n",
              "0              0  \n",
              "1              1  \n",
              "2              1  \n",
              "3              0  \n",
              "4              0  "
            ],
            "text/html": [
              "\n",
              "  <div id=\"df-355eede5-16c9-4f50-961a-5846e6d9c939\" class=\"colab-df-container\">\n",
              "    <div>\n",
              "<style scoped>\n",
              "    .dataframe tbody tr th:only-of-type {\n",
              "        vertical-align: middle;\n",
              "    }\n",
              "\n",
              "    .dataframe tbody tr th {\n",
              "        vertical-align: top;\n",
              "    }\n",
              "\n",
              "    .dataframe thead th {\n",
              "        text-align: right;\n",
              "    }\n",
              "</style>\n",
              "<table border=\"1\" class=\"dataframe\">\n",
              "  <thead>\n",
              "    <tr style=\"text-align: right;\">\n",
              "      <th></th>\n",
              "      <th>Age</th>\n",
              "      <th>Income</th>\n",
              "      <th>Education_Level</th>\n",
              "      <th>Credit_Score</th>\n",
              "      <th>Loan_Amount</th>\n",
              "      <th>Loan_Purpose</th>\n",
              "      <th>Loan_Approval</th>\n",
              "    </tr>\n",
              "  </thead>\n",
              "  <tbody>\n",
              "    <tr>\n",
              "      <th>0</th>\n",
              "      <td>56</td>\n",
              "      <td>24000</td>\n",
              "      <td>PhD</td>\n",
              "      <td>333</td>\n",
              "      <td>26892</td>\n",
              "      <td>Personal</td>\n",
              "      <td>0</td>\n",
              "    </tr>\n",
              "    <tr>\n",
              "      <th>1</th>\n",
              "      <td>46</td>\n",
              "      <td>90588</td>\n",
              "      <td>Master</td>\n",
              "      <td>316</td>\n",
              "      <td>26619</td>\n",
              "      <td>Home</td>\n",
              "      <td>1</td>\n",
              "    </tr>\n",
              "    <tr>\n",
              "      <th>2</th>\n",
              "      <td>32</td>\n",
              "      <td>113610</td>\n",
              "      <td>PhD</td>\n",
              "      <td>452</td>\n",
              "      <td>1281</td>\n",
              "      <td>Personal</td>\n",
              "      <td>1</td>\n",
              "    </tr>\n",
              "    <tr>\n",
              "      <th>3</th>\n",
              "      <td>60</td>\n",
              "      <td>117856</td>\n",
              "      <td>High School</td>\n",
              "      <td>677</td>\n",
              "      <td>28420</td>\n",
              "      <td>Personal</td>\n",
              "      <td>0</td>\n",
              "    </tr>\n",
              "    <tr>\n",
              "      <th>4</th>\n",
              "      <td>25</td>\n",
              "      <td>58304</td>\n",
              "      <td>PhD</td>\n",
              "      <td>641</td>\n",
              "      <td>16360</td>\n",
              "      <td>Car</td>\n",
              "      <td>0</td>\n",
              "    </tr>\n",
              "  </tbody>\n",
              "</table>\n",
              "</div>\n",
              "    <div class=\"colab-df-buttons\">\n",
              "\n",
              "  <div class=\"colab-df-container\">\n",
              "    <button class=\"colab-df-convert\" onclick=\"convertToInteractive('df-355eede5-16c9-4f50-961a-5846e6d9c939')\"\n",
              "            title=\"Convert this dataframe to an interactive table.\"\n",
              "            style=\"display:none;\">\n",
              "\n",
              "  <svg xmlns=\"http://www.w3.org/2000/svg\" height=\"24px\" viewBox=\"0 -960 960 960\">\n",
              "    <path d=\"M120-120v-720h720v720H120Zm60-500h600v-160H180v160Zm220 220h160v-160H400v160Zm0 220h160v-160H400v160ZM180-400h160v-160H180v160Zm440 0h160v-160H620v160ZM180-180h160v-160H180v160Zm440 0h160v-160H620v160Z\"/>\n",
              "  </svg>\n",
              "    </button>\n",
              "\n",
              "  <style>\n",
              "    .colab-df-container {\n",
              "      display:flex;\n",
              "      gap: 12px;\n",
              "    }\n",
              "\n",
              "    .colab-df-convert {\n",
              "      background-color: #E8F0FE;\n",
              "      border: none;\n",
              "      border-radius: 50%;\n",
              "      cursor: pointer;\n",
              "      display: none;\n",
              "      fill: #1967D2;\n",
              "      height: 32px;\n",
              "      padding: 0 0 0 0;\n",
              "      width: 32px;\n",
              "    }\n",
              "\n",
              "    .colab-df-convert:hover {\n",
              "      background-color: #E2EBFA;\n",
              "      box-shadow: 0px 1px 2px rgba(60, 64, 67, 0.3), 0px 1px 3px 1px rgba(60, 64, 67, 0.15);\n",
              "      fill: #174EA6;\n",
              "    }\n",
              "\n",
              "    .colab-df-buttons div {\n",
              "      margin-bottom: 4px;\n",
              "    }\n",
              "\n",
              "    [theme=dark] .colab-df-convert {\n",
              "      background-color: #3B4455;\n",
              "      fill: #D2E3FC;\n",
              "    }\n",
              "\n",
              "    [theme=dark] .colab-df-convert:hover {\n",
              "      background-color: #434B5C;\n",
              "      box-shadow: 0px 1px 3px 1px rgba(0, 0, 0, 0.15);\n",
              "      filter: drop-shadow(0px 1px 2px rgba(0, 0, 0, 0.3));\n",
              "      fill: #FFFFFF;\n",
              "    }\n",
              "  </style>\n",
              "\n",
              "    <script>\n",
              "      const buttonEl =\n",
              "        document.querySelector('#df-355eede5-16c9-4f50-961a-5846e6d9c939 button.colab-df-convert');\n",
              "      buttonEl.style.display =\n",
              "        google.colab.kernel.accessAllowed ? 'block' : 'none';\n",
              "\n",
              "      async function convertToInteractive(key) {\n",
              "        const element = document.querySelector('#df-355eede5-16c9-4f50-961a-5846e6d9c939');\n",
              "        const dataTable =\n",
              "          await google.colab.kernel.invokeFunction('convertToInteractive',\n",
              "                                                    [key], {});\n",
              "        if (!dataTable) return;\n",
              "\n",
              "        const docLinkHtml = 'Like what you see? Visit the ' +\n",
              "          '<a target=\"_blank\" href=https://colab.research.google.com/notebooks/data_table.ipynb>data table notebook</a>'\n",
              "          + ' to learn more about interactive tables.';\n",
              "        element.innerHTML = '';\n",
              "        dataTable['output_type'] = 'display_data';\n",
              "        await google.colab.output.renderOutput(dataTable, element);\n",
              "        const docLink = document.createElement('div');\n",
              "        docLink.innerHTML = docLinkHtml;\n",
              "        element.appendChild(docLink);\n",
              "      }\n",
              "    </script>\n",
              "  </div>\n",
              "\n",
              "\n",
              "<div id=\"df-702b0b0c-0f2d-43df-afc5-283154845900\">\n",
              "  <button class=\"colab-df-quickchart\" onclick=\"quickchart('df-702b0b0c-0f2d-43df-afc5-283154845900')\"\n",
              "            title=\"Suggest charts\"\n",
              "            style=\"display:none;\">\n",
              "\n",
              "<svg xmlns=\"http://www.w3.org/2000/svg\" height=\"24px\"viewBox=\"0 0 24 24\"\n",
              "     width=\"24px\">\n",
              "    <g>\n",
              "        <path d=\"M19 3H5c-1.1 0-2 .9-2 2v14c0 1.1.9 2 2 2h14c1.1 0 2-.9 2-2V5c0-1.1-.9-2-2-2zM9 17H7v-7h2v7zm4 0h-2V7h2v10zm4 0h-2v-4h2v4z\"/>\n",
              "    </g>\n",
              "</svg>\n",
              "  </button>\n",
              "\n",
              "<style>\n",
              "  .colab-df-quickchart {\n",
              "      --bg-color: #E8F0FE;\n",
              "      --fill-color: #1967D2;\n",
              "      --hover-bg-color: #E2EBFA;\n",
              "      --hover-fill-color: #174EA6;\n",
              "      --disabled-fill-color: #AAA;\n",
              "      --disabled-bg-color: #DDD;\n",
              "  }\n",
              "\n",
              "  [theme=dark] .colab-df-quickchart {\n",
              "      --bg-color: #3B4455;\n",
              "      --fill-color: #D2E3FC;\n",
              "      --hover-bg-color: #434B5C;\n",
              "      --hover-fill-color: #FFFFFF;\n",
              "      --disabled-bg-color: #3B4455;\n",
              "      --disabled-fill-color: #666;\n",
              "  }\n",
              "\n",
              "  .colab-df-quickchart {\n",
              "    background-color: var(--bg-color);\n",
              "    border: none;\n",
              "    border-radius: 50%;\n",
              "    cursor: pointer;\n",
              "    display: none;\n",
              "    fill: var(--fill-color);\n",
              "    height: 32px;\n",
              "    padding: 0;\n",
              "    width: 32px;\n",
              "  }\n",
              "\n",
              "  .colab-df-quickchart:hover {\n",
              "    background-color: var(--hover-bg-color);\n",
              "    box-shadow: 0 1px 2px rgba(60, 64, 67, 0.3), 0 1px 3px 1px rgba(60, 64, 67, 0.15);\n",
              "    fill: var(--button-hover-fill-color);\n",
              "  }\n",
              "\n",
              "  .colab-df-quickchart-complete:disabled,\n",
              "  .colab-df-quickchart-complete:disabled:hover {\n",
              "    background-color: var(--disabled-bg-color);\n",
              "    fill: var(--disabled-fill-color);\n",
              "    box-shadow: none;\n",
              "  }\n",
              "\n",
              "  .colab-df-spinner {\n",
              "    border: 2px solid var(--fill-color);\n",
              "    border-color: transparent;\n",
              "    border-bottom-color: var(--fill-color);\n",
              "    animation:\n",
              "      spin 1s steps(1) infinite;\n",
              "  }\n",
              "\n",
              "  @keyframes spin {\n",
              "    0% {\n",
              "      border-color: transparent;\n",
              "      border-bottom-color: var(--fill-color);\n",
              "      border-left-color: var(--fill-color);\n",
              "    }\n",
              "    20% {\n",
              "      border-color: transparent;\n",
              "      border-left-color: var(--fill-color);\n",
              "      border-top-color: var(--fill-color);\n",
              "    }\n",
              "    30% {\n",
              "      border-color: transparent;\n",
              "      border-left-color: var(--fill-color);\n",
              "      border-top-color: var(--fill-color);\n",
              "      border-right-color: var(--fill-color);\n",
              "    }\n",
              "    40% {\n",
              "      border-color: transparent;\n",
              "      border-right-color: var(--fill-color);\n",
              "      border-top-color: var(--fill-color);\n",
              "    }\n",
              "    60% {\n",
              "      border-color: transparent;\n",
              "      border-right-color: var(--fill-color);\n",
              "    }\n",
              "    80% {\n",
              "      border-color: transparent;\n",
              "      border-right-color: var(--fill-color);\n",
              "      border-bottom-color: var(--fill-color);\n",
              "    }\n",
              "    90% {\n",
              "      border-color: transparent;\n",
              "      border-bottom-color: var(--fill-color);\n",
              "    }\n",
              "  }\n",
              "</style>\n",
              "\n",
              "  <script>\n",
              "    async function quickchart(key) {\n",
              "      const quickchartButtonEl =\n",
              "        document.querySelector('#' + key + ' button');\n",
              "      quickchartButtonEl.disabled = true;  // To prevent multiple clicks.\n",
              "      quickchartButtonEl.classList.add('colab-df-spinner');\n",
              "      try {\n",
              "        const charts = await google.colab.kernel.invokeFunction(\n",
              "            'suggestCharts', [key], {});\n",
              "      } catch (error) {\n",
              "        console.error('Error during call to suggestCharts:', error);\n",
              "      }\n",
              "      quickchartButtonEl.classList.remove('colab-df-spinner');\n",
              "      quickchartButtonEl.classList.add('colab-df-quickchart-complete');\n",
              "    }\n",
              "    (() => {\n",
              "      let quickchartButtonEl =\n",
              "        document.querySelector('#df-702b0b0c-0f2d-43df-afc5-283154845900 button');\n",
              "      quickchartButtonEl.style.display =\n",
              "        google.colab.kernel.accessAllowed ? 'block' : 'none';\n",
              "    })();\n",
              "  </script>\n",
              "</div>\n",
              "\n",
              "    </div>\n",
              "  </div>\n"
            ],
            "application/vnd.google.colaboratory.intrinsic+json": {
              "type": "dataframe",
              "variable_name": "df",
              "summary": "{\n  \"name\": \"df\",\n  \"rows\": 500,\n  \"fields\": [\n    {\n      \"column\": \"Age\",\n      \"properties\": {\n        \"dtype\": \"number\",\n        \"std\": 13,\n        \"min\": 18,\n        \"max\": 64,\n        \"num_unique_values\": 47,\n        \"samples\": [\n          24,\n          48,\n          54\n        ],\n        \"semantic_type\": \"\",\n        \"description\": \"\"\n      }\n    },\n    {\n      \"column\": \"Income\",\n      \"properties\": {\n        \"dtype\": \"number\",\n        \"std\": 28908,\n        \"min\": 20055,\n        \"max\": 119835,\n        \"num_unique_values\": 499,\n        \"samples\": [\n          23812,\n          83932,\n          90340\n        ],\n        \"semantic_type\": \"\",\n        \"description\": \"\"\n      }\n    },\n    {\n      \"column\": \"Education_Level\",\n      \"properties\": {\n        \"dtype\": \"category\",\n        \"num_unique_values\": 4,\n        \"samples\": [\n          \"Master\",\n          \"Bachelor\",\n          \"PhD\"\n        ],\n        \"semantic_type\": \"\",\n        \"description\": \"\"\n      }\n    },\n    {\n      \"column\": \"Credit_Score\",\n      \"properties\": {\n        \"dtype\": \"number\",\n        \"std\": 159,\n        \"min\": 301,\n        \"max\": 848,\n        \"num_unique_values\": 317,\n        \"samples\": [\n          788,\n          358,\n          397\n        ],\n        \"semantic_type\": \"\",\n        \"description\": \"\"\n      }\n    },\n    {\n      \"column\": \"Loan_Amount\",\n      \"properties\": {\n        \"dtype\": \"number\",\n        \"std\": 13931,\n        \"min\": 1125,\n        \"max\": 49938,\n        \"num_unique_values\": 495,\n        \"samples\": [\n          42568,\n          14380,\n          43828\n        ],\n        \"semantic_type\": \"\",\n        \"description\": \"\"\n      }\n    },\n    {\n      \"column\": \"Loan_Purpose\",\n      \"properties\": {\n        \"dtype\": \"category\",\n        \"num_unique_values\": 5,\n        \"samples\": [\n          \"Home\",\n          \"Education\",\n          \"Car\"\n        ],\n        \"semantic_type\": \"\",\n        \"description\": \"\"\n      }\n    },\n    {\n      \"column\": \"Loan_Approval\",\n      \"properties\": {\n        \"dtype\": \"number\",\n        \"std\": 0,\n        \"min\": 0,\n        \"max\": 1,\n        \"num_unique_values\": 2,\n        \"samples\": [\n          1,\n          0\n        ],\n        \"semantic_type\": \"\",\n        \"description\": \"\"\n      }\n    }\n  ]\n}"
            }
          },
          "metadata": {},
          "execution_count": 3
        }
      ]
    },
    {
      "cell_type": "markdown",
      "source": [
        "# Eksplorasi Data"
      ],
      "metadata": {
        "id": "E0ADuCtTxyV6"
      }
    },
    {
      "cell_type": "markdown",
      "source": [
        "**Identifikasi apakah terdapat missing values dalam dataset.**"
      ],
      "metadata": {
        "id": "2JIvmC1ozg6M"
      }
    },
    {
      "cell_type": "code",
      "source": [
        "df.isnull().sum()"
      ],
      "metadata": {
        "colab": {
          "base_uri": "https://localhost:8080/",
          "height": 304
        },
        "id": "kIF4fRSFzdZ8",
        "outputId": "d96ffa7d-fec8-4e84-8ef1-d7b65d31aa82"
      },
      "execution_count": 4,
      "outputs": [
        {
          "output_type": "execute_result",
          "data": {
            "text/plain": [
              "Age                0\n",
              "Income             0\n",
              "Education_Level    0\n",
              "Credit_Score       0\n",
              "Loan_Amount        0\n",
              "Loan_Purpose       0\n",
              "Loan_Approval      0\n",
              "dtype: int64"
            ],
            "text/html": [
              "<div>\n",
              "<style scoped>\n",
              "    .dataframe tbody tr th:only-of-type {\n",
              "        vertical-align: middle;\n",
              "    }\n",
              "\n",
              "    .dataframe tbody tr th {\n",
              "        vertical-align: top;\n",
              "    }\n",
              "\n",
              "    .dataframe thead th {\n",
              "        text-align: right;\n",
              "    }\n",
              "</style>\n",
              "<table border=\"1\" class=\"dataframe\">\n",
              "  <thead>\n",
              "    <tr style=\"text-align: right;\">\n",
              "      <th></th>\n",
              "      <th>0</th>\n",
              "    </tr>\n",
              "  </thead>\n",
              "  <tbody>\n",
              "    <tr>\n",
              "      <th>Age</th>\n",
              "      <td>0</td>\n",
              "    </tr>\n",
              "    <tr>\n",
              "      <th>Income</th>\n",
              "      <td>0</td>\n",
              "    </tr>\n",
              "    <tr>\n",
              "      <th>Education_Level</th>\n",
              "      <td>0</td>\n",
              "    </tr>\n",
              "    <tr>\n",
              "      <th>Credit_Score</th>\n",
              "      <td>0</td>\n",
              "    </tr>\n",
              "    <tr>\n",
              "      <th>Loan_Amount</th>\n",
              "      <td>0</td>\n",
              "    </tr>\n",
              "    <tr>\n",
              "      <th>Loan_Purpose</th>\n",
              "      <td>0</td>\n",
              "    </tr>\n",
              "    <tr>\n",
              "      <th>Loan_Approval</th>\n",
              "      <td>0</td>\n",
              "    </tr>\n",
              "  </tbody>\n",
              "</table>\n",
              "</div><br><label><b>dtype:</b> int64</label>"
            ]
          },
          "metadata": {},
          "execution_count": 4
        }
      ]
    },
    {
      "cell_type": "markdown",
      "source": [
        "Tidak terdapat missing value dalam dataset, yang berarti setiap entri dalam semua kolom telah terisi dengan nilai yang valid. Hal ini menunjukkan bahwa data sudah bersih dalam hal kelengkapan, sehingga tidak perlu dilakukan imputasi atau penghapusan data akibat kekosongan nilai."
      ],
      "metadata": {
        "id": "_Z-9Hk66zjZZ"
      }
    },
    {
      "cell_type": "markdown",
      "source": [
        "**Visualisasikan data tersebut**"
      ],
      "metadata": {
        "id": "ZFNeOjtygsNC"
      }
    },
    {
      "cell_type": "code",
      "source": [
        "import matplotlib.pyplot as plt\n",
        "import seaborn as sns"
      ],
      "metadata": {
        "id": "3Jo9heFDFkCM"
      },
      "execution_count": 5,
      "outputs": []
    },
    {
      "cell_type": "code",
      "source": [
        "# 1. Histogram distribusi \"Age\"\n",
        "plt.figure(figsize=(6, 4))\n",
        "sns.histplot(df[\"Age\"], bins=10, kde=True, color=\"blue\")\n",
        "plt.title(\"Distribusi Age\")\n",
        "plt.xlabel(\"Age\")\n",
        "plt.ylabel(\"Frekuensi\")\n",
        "plt.show()"
      ],
      "metadata": {
        "colab": {
          "base_uri": "https://localhost:8080/",
          "height": 410
        },
        "id": "JQzGDhIP0g8_",
        "outputId": "602dd2fd-ac50-4b7e-d62d-d7489af9e4b0"
      },
      "execution_count": 6,
      "outputs": [
        {
          "output_type": "display_data",
          "data": {
            "text/plain": [
              "<Figure size 600x400 with 1 Axes>"
            ],
            "image/png": "[encoded data removed]"
          },
          "metadata": {}
        }
      ]
    },
    {
      "cell_type": "markdown",
      "source": [
        "Visualisasi distribusi usia menunjukkan bahwa mayoritas peminjam berada dalam rentang usia menengah, dengan jumlah yang lebih sedikit di usia yang lebih muda dan lebih tua. Pola distribusi ini mengindikasikan bahwa kelompok usia produktif lebih banyak mengajukan pinjaman dibandingkan kelompok usia lainnya. Selain itu, adanya sedikit penyebaran di usia yang lebih tua dapat menunjukkan bahwa semakin bertambahnya usia, kemungkinan untuk mengajukan pinjaman berkurang."
      ],
      "metadata": {
        "id": "4DMLhUpJYiJU"
      }
    },
    {
      "cell_type": "code",
      "source": [
        "# 2. Pie chart persetujuan pinjaman\n",
        "plt.figure(figsize=(6, 4))\n",
        "df[\"Loan_Approval\"].value_counts().plot.pie(autopct='%1.1f%%', colors=[\"grey\", \"darkblue\"], labels=[\"Tidak Disetujui\", \"Disetujui\"])\n",
        "plt.title(\"Proporsi Persetujuan Pinjaman\")\n",
        "plt.ylabel(\"\")\n",
        "plt.show()"
      ],
      "metadata": {
        "colab": {
          "base_uri": "https://localhost:8080/",
          "height": 367
        },
        "id": "zgKRD8HoX5_I",
        "outputId": "cc187b53-e437-4de2-c2d5-f7bc409c7cac"
      },
      "execution_count": 7,
      "outputs": [
        {
          "output_type": "display_data",
          "data": {
            "text/plain": [
              "<Figure size 600x400 with 1 Axes>"
            ],
            "image/png": "[encoded data removed]"
          },
          "metadata": {}
        }
      ]
    },
    {
      "cell_type": "markdown",
      "source": [
        "Visualisasi pie chart persetujuan pinjaman menunjukkan proporsi antara pengajuan pinjaman yang disetujui dan yang tidak disetujui. Dari grafik, terlihat bahwa sebagian besar pengajuan pinjaman tidak disetujui, ditunjukkan oleh bagian abu-abu yang lebih besar dibandingkan dengan bagian biru yang mewakili pinjaman yang disetujui."
      ],
      "metadata": {
        "id": "9LuuN2crfn-H"
      }
    },
    {
      "cell_type": "code",
      "source": [
        "# 3. Boxplot Berdasarkan Loan Approval\n",
        "# Pilih hanya kolom numerik\n",
        "numerical_columns = df.select_dtypes(include=['number']).columns\n",
        "\n",
        "# Buat subplot untuk setiap kolom numerik kecuali Loan_Approval\n",
        "plt.figure(figsize=(12, 8))\n",
        "for i, col in enumerate(numerical_columns[:-1], 1):\n",
        "    plt.subplot(2, 2, i)\n",
        "    sns.boxplot(x=df[\"Loan_Approval\"], y=df[col], hue=df[\"Loan_Approval\"], palette=\"cividis\", legend=False)\n",
        "    plt.title(f\"Distribusi {col} berdasarkan Loan Approval\")\n",
        "    plt.xlabel(\"Loan Approval (0 = Tidak, 1 = Ya)\")\n",
        "    plt.ylabel(col)\n",
        "\n",
        "plt.tight_layout()\n",
        "plt.show()"
      ],
      "metadata": {
        "colab": {
          "base_uri": "https://localhost:8080/",
          "height": 516
        },
        "id": "rKlU8BhGXvct",
        "outputId": "da6810d8-4503-4ae6-ec5d-33b224bb0650"
      },
      "execution_count": 8,
      "outputs": [
        {
          "output_type": "display_data",
          "data": {
            "text/plain": [
              "<Figure size 1200x800 with 4 Axes>"
            ],
            "image/png": "[encoded data removed]"
          },
          "metadata": {}
        }
      ]
    },
    {
      "cell_type": "markdown",
      "source": [
        "Berikut penjelasan visualisasi Boxplot diatas:\n",
        "1.   Boxplot Age vs Loan Approval: Peminjam yang mendapatkan persetujuan dan penolakan pinjaman memiliki distribusi usia yang hampir serupa, namun terdapat beberapa outlier pada usia yang lebih tua. Tidak ada perbedaan signifikan dalam kecenderungan usia terhadap persetujuan pinjaman.\n",
        "2.   Boxplot Income vs Loan Approval: Peminjam dengan pendapatan lebih tinggi cenderung lebih banyak mendapatkan persetujuan pinjaman, meskipun terdapat beberapa outlier dengan pendapatan sangat tinggi yang tetap mengalami penolakan. Median pendapatan bagi yang disetujui lebih tinggi dibandingkan yang ditolak.\n",
        "3. Boxplot Credit Score vs Loan Approval: Credit Score yang lebih tinggi berhubungan dengan kemungkinan lebih besar untuk mendapatkan persetujuan pinjaman. Median skor kredit pada peminjam yang disetujui lebih tinggi dibandingkan dengan yang ditolak, menunjukkan bahwa skor kredit menjadi faktor penting dalam keputusan persetujuan.\n",
        "4. Boxplot Loan Amount vs Loan Approval: Pinjaman dengan jumlah lebih kecil cenderung lebih mudah disetujui, sementara jumlah pinjaman yang lebih besar memiliki distribusi yang lebih menyebar dengan banyak outlier. Hal ini mengindikasikan bahwa semakin besar jumlah pinjaman, semakin ketat proses persetujuannya.\n",
        "\n"
      ],
      "metadata": {
        "id": "Ai3GYWDOdY7I"
      }
    },
    {
      "cell_type": "code",
      "source": [
        "# 4. Countplot tujuan pinjaman\n",
        "plt.figure(figsize=(6, 4))\n",
        "sns.countplot(x=df[\"Loan_Purpose\"], hue=df[\"Loan_Purpose\"], palette=\"cividis\", order=df[\"Loan_Purpose\"].value_counts().index, legend=False)\n",
        "plt.title(\"Jumlah Pengajuan Pinjaman berdasarkan Tujuan\")\n",
        "plt.xlabel(\"Tujuan Pinjaman\")\n",
        "plt.ylabel(\"Jumlah\")\n",
        "plt.xticks(rotation=45)\n",
        "plt.show()"
      ],
      "metadata": {
        "colab": {
          "base_uri": "https://localhost:8080/",
          "height": 455
        },
        "id": "NXLwMpD3X2-B",
        "outputId": "5b247ffb-4ba3-4caa-f43e-5b0b2b3c48e6"
      },
      "execution_count": 9,
      "outputs": [
        {
          "output_type": "display_data",
          "data": {
            "text/plain": [
              "<Figure size 600x400 with 1 Axes>"
            ],
            "image/png": "[encoded data removed]"
          },
          "metadata": {}
        }
      ]
    },
    {
      "cell_type": "markdown",
      "source": [
        "Visualisasi countplot tujuan pinjaman menunjukkan distribusi jumlah pengajuan pinjaman berdasarkan tujuan penggunaan. Kategori Medical memiliki jumlah pengajuan terbanyak, sedangkan kategori Education memiliki jumlah pengajuan paling sedikit."
      ],
      "metadata": {
        "id": "ckE4QKhNe0mM"
      }
    },
    {
      "cell_type": "markdown",
      "source": [
        "# Pemrosesan Data"
      ],
      "metadata": {
        "id": "cFGm3Q63x1Ku"
      }
    },
    {
      "cell_type": "code",
      "source": [
        "import numpy as np\n",
        "from sklearn.preprocessing import LabelEncoder\n",
        "from sklearn.model_selection import train_test_split\n",
        "from sklearn.preprocessing import StandardScaler"
      ],
      "metadata": {
        "id": "BaAInob3Fr1u"
      },
      "execution_count": 10,
      "outputs": []
    },
    {
      "cell_type": "markdown",
      "source": [
        "**Lakukan encoding pada fitur kategorikal**"
      ],
      "metadata": {
        "id": "MFTR6lB_g1xN"
      }
    },
    {
      "cell_type": "code",
      "source": [
        "# Encode categorical variables\n",
        "categorical_columns = df.select_dtypes(include=['object']).columns\n",
        "label_encoders = {}\n",
        "\n",
        "for col in categorical_columns:\n",
        "    le = LabelEncoder()\n",
        "    df[col] = le.fit_transform(df[col])\n",
        "    label_encoders[col] = le\n",
        "\n",
        "# Tampilkan dataset setelah encoding\n",
        "df.head()"
      ],
      "metadata": {
        "colab": {
          "base_uri": "https://localhost:8080/",
          "height": 206
        },
        "id": "t-iChp3r8MT4",
        "outputId": "59438b70-653d-4893-d6b7-5f3add0564b6"
      },
      "execution_count": 11,
      "outputs": [
        {
          "output_type": "execute_result",
          "data": {
            "text/plain": [
              "   Age  Income  Education_Level  Credit_Score  Loan_Amount  Loan_Purpose  \\\n",
              "0   56   24000                3           333        26892             4   \n",
              "1   46   90588                2           316        26619             2   \n",
              "2   32  113610                3           452         1281             4   \n",
              "3   60  117856                1           677        28420             4   \n",
              "4   25   58304                3           641        16360             0   \n",
              "\n",
              "   Loan_Approval  \n",
              "0              0  \n",
              "1              1  \n",
              "2              1  \n",
              "3              0  \n",
              "4              0  "
            ],
            "text/html": [
              "\n",
              "  <div id=\"df-ccba3868-0724-4602-ae86-a3bba89465a6\" class=\"colab-df-container\">\n",
              "    <div>\n",
              "<style scoped>\n",
              "    .dataframe tbody tr th:only-of-type {\n",
              "        vertical-align: middle;\n",
              "    }\n",
              "\n",
              "    .dataframe tbody tr th {\n",
              "        vertical-align: top;\n",
              "    }\n",
              "\n",
              "    .dataframe thead th {\n",
              "        text-align: right;\n",
              "    }\n",
              "</style>\n",
              "<table border=\"1\" class=\"dataframe\">\n",
              "  <thead>\n",
              "    <tr style=\"text-align: right;\">\n",
              "      <th></th>\n",
              "      <th>Age</th>\n",
              "      <th>Income</th>\n",
              "      <th>Education_Level</th>\n",
              "      <th>Credit_Score</th>\n",
              "      <th>Loan_Amount</th>\n",
              "      <th>Loan_Purpose</th>\n",
              "      <th>Loan_Approval</th>\n",
              "    </tr>\n",
              "  </thead>\n",
              "  <tbody>\n",
              "    <tr>\n",
              "      <th>0</th>\n",
              "      <td>56</td>\n",
              "      <td>24000</td>\n",
              "      <td>3</td>\n",
              "      <td>333</td>\n",
              "      <td>26892</td>\n",
              "      <td>4</td>\n",
              "      <td>0</td>\n",
              "    </tr>\n",
              "    <tr>\n",
              "      <th>1</th>\n",
              "      <td>46</td>\n",
              "      <td>90588</td>\n",
              "      <td>2</td>\n",
              "      <td>316</td>\n",
              "      <td>26619</td>\n",
              "      <td>2</td>\n",
              "      <td>1</td>\n",
              "    </tr>\n",
              "    <tr>\n",
              "      <th>2</th>\n",
              "      <td>32</td>\n",
              "      <td>113610</td>\n",
              "      <td>3</td>\n",
              "      <td>452</td>\n",
              "      <td>1281</td>\n",
              "      <td>4</td>\n",
              "      <td>1</td>\n",
              "    </tr>\n",
              "    <tr>\n",
              "      <th>3</th>\n",
              "      <td>60</td>\n",
              "      <td>117856</td>\n",
              "      <td>1</td>\n",
              "      <td>677</td>\n",
              "      <td>28420</td>\n",
              "      <td>4</td>\n",
              "      <td>0</td>\n",
              "    </tr>\n",
              "    <tr>\n",
              "      <th>4</th>\n",
              "      <td>25</td>\n",
              "      <td>58304</td>\n",
              "      <td>3</td>\n",
              "      <td>641</td>\n",
              "      <td>16360</td>\n",
              "      <td>0</td>\n",
              "      <td>0</td>\n",
              "    </tr>\n",
              "  </tbody>\n",
              "</table>\n",
              "</div>\n",
              "    <div class=\"colab-df-buttons\">\n",
              "\n",
              "  <div class=\"colab-df-container\">\n",
              "    <button class=\"colab-df-convert\" onclick=\"convertToInteractive('df-ccba3868-0724-4602-ae86-a3bba89465a6')\"\n",
              "            title=\"Convert this dataframe to an interactive table.\"\n",
              "            style=\"display:none;\">\n",
              "\n",
              "  <svg xmlns=\"http://www.w3.org/2000/svg\" height=\"24px\" viewBox=\"0 -960 960 960\">\n",
              "    <path d=\"M120-120v-720h720v720H120Zm60-500h600v-160H180v160Zm220 220h160v-160H400v160Zm0 220h160v-160H400v160ZM180-400h160v-160H180v160Zm440 0h160v-160H620v160ZM180-180h160v-160H180v160Zm440 0h160v-160H620v160Z\"/>\n",
              "  </svg>\n",
              "    </button>\n",
              "\n",
              "  <style>\n",
              "    .colab-df-container {\n",
              "      display:flex;\n",
              "      gap: 12px;\n",
              "    }\n",
              "\n",
              "    .colab-df-convert {\n",
              "      background-color: #E8F0FE;\n",
              "      border: none;\n",
              "      border-radius: 50%;\n",
              "      cursor: pointer;\n",
              "      display: none;\n",
              "      fill: #1967D2;\n",
              "      height: 32px;\n",
              "      padding: 0 0 0 0;\n",
              "      width: 32px;\n",
              "    }\n",
              "\n",
              "    .colab-df-convert:hover {\n",
              "      background-color: #E2EBFA;\n",
              "      box-shadow: 0px 1px 2px rgba(60, 64, 67, 0.3), 0px 1px 3px 1px rgba(60, 64, 67, 0.15);\n",
              "      fill: #174EA6;\n",
              "    }\n",
              "\n",
              "    .colab-df-buttons div {\n",
              "      margin-bottom: 4px;\n",
              "    }\n",
              "\n",
              "    [theme=dark] .colab-df-convert {\n",
              "      background-color: #3B4455;\n",
              "      fill: #D2E3FC;\n",
              "    }\n",
              "\n",
              "    [theme=dark] .colab-df-convert:hover {\n",
              "      background-color: #434B5C;\n",
              "      box-shadow: 0px 1px 3px 1px rgba(0, 0, 0, 0.15);\n",
              "      filter: drop-shadow(0px 1px 2px rgba(0, 0, 0, 0.3));\n",
              "      fill: #FFFFFF;\n",
              "    }\n",
              "  </style>\n",
              "\n",
              "    <script>\n",
              "      const buttonEl =\n",
              "        document.querySelector('#df-ccba3868-0724-4602-ae86-a3bba89465a6 button.colab-df-convert');\n",
              "      buttonEl.style.display =\n",
              "        google.colab.kernel.accessAllowed ? 'block' : 'none';\n",
              "\n",
              "      async function convertToInteractive(key) {\n",
              "        const element = document.querySelector('#df-ccba3868-0724-4602-ae86-a3bba89465a6');\n",
              "        const dataTable =\n",
              "          await google.colab.kernel.invokeFunction('convertToInteractive',\n",
              "                                                    [key], {});\n",
              "        if (!dataTable) return;\n",
              "\n",
              "        const docLinkHtml = 'Like what you see? Visit the ' +\n",
              "          '<a target=\"_blank\" href=https://colab.research.google.com/notebooks/data_table.ipynb>data table notebook</a>'\n",
              "          + ' to learn more about interactive tables.';\n",
              "        element.innerHTML = '';\n",
              "        dataTable['output_type'] = 'display_data';\n",
              "        await google.colab.output.renderOutput(dataTable, element);\n",
              "        const docLink = document.createElement('div');\n",
              "        docLink.innerHTML = docLinkHtml;\n",
              "        element.appendChild(docLink);\n",
              "      }\n",
              "    </script>\n",
              "  </div>\n",
              "\n",
              "\n",
              "<div id=\"df-7f3159f7-cdb5-44ec-ac88-ad8416102276\">\n",
              "  <button class=\"colab-df-quickchart\" onclick=\"quickchart('df-7f3159f7-cdb5-44ec-ac88-ad8416102276')\"\n",
              "            title=\"Suggest charts\"\n",
              "            style=\"display:none;\">\n",
              "\n",
              "<svg xmlns=\"http://www.w3.org/2000/svg\" height=\"24px\"viewBox=\"0 0 24 24\"\n",
              "     width=\"24px\">\n",
              "    <g>\n",
              "        <path d=\"M19 3H5c-1.1 0-2 .9-2 2v14c0 1.1.9 2 2 2h14c1.1 0 2-.9 2-2V5c0-1.1-.9-2-2-2zM9 17H7v-7h2v7zm4 0h-2V7h2v10zm4 0h-2v-4h2v4z\"/>\n",
              "    </g>\n",
              "</svg>\n",
              "  </button>\n",
              "\n",
              "<style>\n",
              "  .colab-df-quickchart {\n",
              "      --bg-color: #E8F0FE;\n",
              "      --fill-color: #1967D2;\n",
              "      --hover-bg-color: #E2EBFA;\n",
              "      --hover-fill-color: #174EA6;\n",
              "      --disabled-fill-color: #AAA;\n",
              "      --disabled-bg-color: #DDD;\n",
              "  }\n",
              "\n",
              "  [theme=dark] .colab-df-quickchart {\n",
              "      --bg-color: #3B4455;\n",
              "      --fill-color: #D2E3FC;\n",
              "      --hover-bg-color: #434B5C;\n",
              "      --hover-fill-color: #FFFFFF;\n",
              "      --disabled-bg-color: #3B4455;\n",
              "      --disabled-fill-color: #666;\n",
              "  }\n",
              "\n",
              "  .colab-df-quickchart {\n",
              "    background-color: var(--bg-color);\n",
              "    border: none;\n",
              "    border-radius: 50%;\n",
              "    cursor: pointer;\n",
              "    display: none;\n",
              "    fill: var(--fill-color);\n",
              "    height: 32px;\n",
              "    padding: 0;\n",
              "    width: 32px;\n",
              "  }\n",
              "\n",
              "  .colab-df-quickchart:hover {\n",
              "    background-color: var(--hover-bg-color);\n",
              "    box-shadow: 0 1px 2px rgba(60, 64, 67, 0.3), 0 1px 3px 1px rgba(60, 64, 67, 0.15);\n",
              "    fill: var(--button-hover-fill-color);\n",
              "  }\n",
              "\n",
              "  .colab-df-quickchart-complete:disabled,\n",
              "  .colab-df-quickchart-complete:disabled:hover {\n",
              "    background-color: var(--disabled-bg-color);\n",
              "    fill: var(--disabled-fill-color);\n",
              "    box-shadow: none;\n",
              "  }\n",
              "\n",
              "  .colab-df-spinner {\n",
              "    border: 2px solid var(--fill-color);\n",
              "    border-color: transparent;\n",
              "    border-bottom-color: var(--fill-color);\n",
              "    animation:\n",
              "      spin 1s steps(1) infinite;\n",
              "  }\n",
              "\n",
              "  @keyframes spin {\n",
              "    0% {\n",
              "      border-color: transparent;\n",
              "      border-bottom-color: var(--fill-color);\n",
              "      border-left-color: var(--fill-color);\n",
              "    }\n",
              "    20% {\n",
              "      border-color: transparent;\n",
              "      border-left-color: var(--fill-color);\n",
              "      border-top-color: var(--fill-color);\n",
              "    }\n",
              "    30% {\n",
              "      border-color: transparent;\n",
              "      border-left-color: var(--fill-color);\n",
              "      border-top-color: var(--fill-color);\n",
              "      border-right-color: var(--fill-color);\n",
              "    }\n",
              "    40% {\n",
              "      border-color: transparent;\n",
              "      border-right-color: var(--fill-color);\n",
              "      border-top-color: var(--fill-color);\n",
              "    }\n",
              "    60% {\n",
              "      border-color: transparent;\n",
              "      border-right-color: var(--fill-color);\n",
              "    }\n",
              "    80% {\n",
              "      border-color: transparent;\n",
              "      border-right-color: var(--fill-color);\n",
              "      border-bottom-color: var(--fill-color);\n",
              "    }\n",
              "    90% {\n",
              "      border-color: transparent;\n",
              "      border-bottom-color: var(--fill-color);\n",
              "    }\n",
              "  }\n",
              "</style>\n",
              "\n",
              "  <script>\n",
              "    async function quickchart(key) {\n",
              "      const quickchartButtonEl =\n",
              "        document.querySelector('#' + key + ' button');\n",
              "      quickchartButtonEl.disabled = true;  // To prevent multiple clicks.\n",
              "      quickchartButtonEl.classList.add('colab-df-spinner');\n",
              "      try {\n",
              "        const charts = await google.colab.kernel.invokeFunction(\n",
              "            'suggestCharts', [key], {});\n",
              "      } catch (error) {\n",
              "        console.error('Error during call to suggestCharts:', error);\n",
              "      }\n",
              "      quickchartButtonEl.classList.remove('colab-df-spinner');\n",
              "      quickchartButtonEl.classList.add('colab-df-quickchart-complete');\n",
              "    }\n",
              "    (() => {\n",
              "      let quickchartButtonEl =\n",
              "        document.querySelector('#df-7f3159f7-cdb5-44ec-ac88-ad8416102276 button');\n",
              "      quickchartButtonEl.style.display =\n",
              "        google.colab.kernel.accessAllowed ? 'block' : 'none';\n",
              "    })();\n",
              "  </script>\n",
              "</div>\n",
              "\n",
              "    </div>\n",
              "  </div>\n"
            ],
            "application/vnd.google.colaboratory.intrinsic+json": {
              "type": "dataframe",
              "variable_name": "df",
              "summary": "{\n  \"name\": \"df\",\n  \"rows\": 500,\n  \"fields\": [\n    {\n      \"column\": \"Age\",\n      \"properties\": {\n        \"dtype\": \"number\",\n        \"std\": 13,\n        \"min\": 18,\n        \"max\": 64,\n        \"num_unique_values\": 47,\n        \"samples\": [\n          24,\n          48,\n          54\n        ],\n        \"semantic_type\": \"\",\n        \"description\": \"\"\n      }\n    },\n    {\n      \"column\": \"Income\",\n      \"properties\": {\n        \"dtype\": \"number\",\n        \"std\": 28908,\n        \"min\": 20055,\n        \"max\": 119835,\n        \"num_unique_values\": 499,\n        \"samples\": [\n          23812,\n          83932,\n          90340\n        ],\n        \"semantic_type\": \"\",\n        \"description\": \"\"\n      }\n    },\n    {\n      \"column\": \"Education_Level\",\n      \"properties\": {\n        \"dtype\": \"number\",\n        \"std\": 1,\n        \"min\": 0,\n        \"max\": 3,\n        \"num_unique_values\": 4,\n        \"samples\": [\n          2,\n          0,\n          3\n        ],\n        \"semantic_type\": \"\",\n        \"description\": \"\"\n      }\n    },\n    {\n      \"column\": \"Credit_Score\",\n      \"properties\": {\n        \"dtype\": \"number\",\n        \"std\": 159,\n        \"min\": 301,\n        \"max\": 848,\n        \"num_unique_values\": 317,\n        \"samples\": [\n          788,\n          358,\n          397\n        ],\n        \"semantic_type\": \"\",\n        \"description\": \"\"\n      }\n    },\n    {\n      \"column\": \"Loan_Amount\",\n      \"properties\": {\n        \"dtype\": \"number\",\n        \"std\": 13931,\n        \"min\": 1125,\n        \"max\": 49938,\n        \"num_unique_values\": 495,\n        \"samples\": [\n          42568,\n          14380,\n          43828\n        ],\n        \"semantic_type\": \"\",\n        \"description\": \"\"\n      }\n    },\n    {\n      \"column\": \"Loan_Purpose\",\n      \"properties\": {\n        \"dtype\": \"number\",\n        \"std\": 1,\n        \"min\": 0,\n        \"max\": 4,\n        \"num_unique_values\": 5,\n        \"samples\": [\n          2,\n          1,\n          0\n        ],\n        \"semantic_type\": \"\",\n        \"description\": \"\"\n      }\n    },\n    {\n      \"column\": \"Loan_Approval\",\n      \"properties\": {\n        \"dtype\": \"number\",\n        \"std\": 0,\n        \"min\": 0,\n        \"max\": 1,\n        \"num_unique_values\": 2,\n        \"samples\": [\n          1,\n          0\n        ],\n        \"semantic_type\": \"\",\n        \"description\": \"\"\n      }\n    }\n  ]\n}"
            }
          },
          "metadata": {},
          "execution_count": 11
        }
      ]
    },
    {
      "cell_type": "markdown",
      "source": [
        "Hasil encoding fitur kategorikal mengubah nilai teks dalam kolom kategorikal menjadi bentuk numerik. Misalnya, kategori Education_Level yang awalnya berisi nilai seperti High School, Master, dan PhD dikonversi menjadi angka seperti 0, 1, 2. Begitu juga dengan Loan_Purpose, yang semula berisi jenis pinjaman seperti Personal, Home, dan Car kini direpresentasikan dengan angka yang sesuai. Transformasi ini memungkinkan model machine learning untuk memahami data kategorikal dalam bentuk numerik tanpa kehilangan informasi penting."
      ],
      "metadata": {
        "id": "ErL8XaaBmNQU"
      }
    },
    {
      "cell_type": "markdown",
      "source": [
        "**Lakukan feature scaling pada fitur numerik**"
      ],
      "metadata": {
        "id": "fVmSWRHvihas"
      }
    },
    {
      "cell_type": "code",
      "source": [
        "# Pisahkan fitur (X) dan label (y)\n",
        "X = df.drop(columns=[\"Loan_Approval\"])\n",
        "y = df[\"Loan_Approval\"].astype(int)"
      ],
      "metadata": {
        "id": "gRuRmZtK_QGt"
      },
      "execution_count": 12,
      "outputs": []
    },
    {
      "cell_type": "markdown",
      "source": [
        "Pada proses preprocessing data, label \"Loan_Approval\" tidak boleh terkena standarisasi karena merupakan variabel target (y) yang akan diprediksi oleh model. Standarisasi hanya diterapkan pada fitur (X) untuk menyamakan skala data numerik agar model bekerja lebih optimal. Oleh karena itu, sebelum melakukan standarisasi, kolom \"Loan_Approval\" dipisahkan terlebih dahulu dari dataset dengan df.drop(columns=[\"Loan_Approval\"]), sehingga hanya fitur yang diproses lebih lanjut."
      ],
      "metadata": {
        "id": "JzRJdm2oBPvQ"
      }
    },
    {
      "cell_type": "code",
      "source": [
        "# Feature Scaling\n",
        "numerical_columns = X.select_dtypes(include=['int64', 'float64']).columns\n",
        "scaler = StandardScaler()\n",
        "X[numerical_columns] = scaler.fit_transform(X[numerical_columns])\n",
        "\n",
        "# Tampilkan data setelah scaling\n",
        "X.head()"
      ],
      "metadata": {
        "colab": {
          "base_uri": "https://localhost:8080/",
          "height": 206
        },
        "id": "h1_X0rQh8cCi",
        "outputId": "752a64a1-c5d9-4c51-82f1-4b0fd16b7e4d"
      },
      "execution_count": 13,
      "outputs": [
        {
          "output_type": "execute_result",
          "data": {
            "text/plain": [
              "        Age    Income  Education_Level  Credit_Score  Loan_Amount  \\\n",
              "0  1.100655 -1.496205         1.383498     -1.500286     0.026245   \n",
              "1  0.353029  0.809486         0.475691     -1.606833     0.006629   \n",
              "2 -0.693647  1.606651         1.383498     -0.754461    -1.813972   \n",
              "3  1.399705  1.753674        -0.432116      0.655712     0.136035   \n",
              "4 -1.216985 -0.308387         1.383498      0.430084    -0.730507   \n",
              "\n",
              "   Loan_Purpose  \n",
              "0      1.364844  \n",
              "1     -0.042212  \n",
              "2      1.364844  \n",
              "3      1.364844  \n",
              "4     -1.449267  "
            ],
            "text/html": [
              "\n",
              "  <div id=\"df-2e6ef2c6-6b9e-4ea1-b929-54cefd2c5511\" class=\"colab-df-container\">\n",
              "    <div>\n",
              "<style scoped>\n",
              "    .dataframe tbody tr th:only-of-type {\n",
              "        vertical-align: middle;\n",
              "    }\n",
              "\n",
              "    .dataframe tbody tr th {\n",
              "        vertical-align: top;\n",
              "    }\n",
              "\n",
              "    .dataframe thead th {\n",
              "        text-align: right;\n",
              "    }\n",
              "</style>\n",
              "<table border=\"1\" class=\"dataframe\">\n",
              "  <thead>\n",
              "    <tr style=\"text-align: right;\">\n",
              "      <th></th>\n",
              "      <th>Age</th>\n",
              "      <th>Income</th>\n",
              "      <th>Education_Level</th>\n",
              "      <th>Credit_Score</th>\n",
              "      <th>Loan_Amount</th>\n",
              "      <th>Loan_Purpose</th>\n",
              "    </tr>\n",
              "  </thead>\n",
              "  <tbody>\n",
              "    <tr>\n",
              "      <th>0</th>\n",
              "      <td>1.100655</td>\n",
              "      <td>-1.496205</td>\n",
              "      <td>1.383498</td>\n",
              "      <td>-1.500286</td>\n",
              "      <td>0.026245</td>\n",
              "      <td>1.364844</td>\n",
              "    </tr>\n",
              "    <tr>\n",
              "      <th>1</th>\n",
              "      <td>0.353029</td>\n",
              "      <td>0.809486</td>\n",
              "      <td>0.475691</td>\n",
              "      <td>-1.606833</td>\n",
              "      <td>0.006629</td>\n",
              "      <td>-0.042212</td>\n",
              "    </tr>\n",
              "    <tr>\n",
              "      <th>2</th>\n",
              "      <td>-0.693647</td>\n",
              "      <td>1.606651</td>\n",
              "      <td>1.383498</td>\n",
              "      <td>-0.754461</td>\n",
              "      <td>-1.813972</td>\n",
              "      <td>1.364844</td>\n",
              "    </tr>\n",
              "    <tr>\n",
              "      <th>3</th>\n",
              "      <td>1.399705</td>\n",
              "      <td>1.753674</td>\n",
              "      <td>-0.432116</td>\n",
              "      <td>0.655712</td>\n",
              "      <td>0.136035</td>\n",
              "      <td>1.364844</td>\n",
              "    </tr>\n",
              "    <tr>\n",
              "      <th>4</th>\n",
              "      <td>-1.216985</td>\n",
              "      <td>-0.308387</td>\n",
              "      <td>1.383498</td>\n",
              "      <td>0.430084</td>\n",
              "      <td>-0.730507</td>\n",
              "      <td>-1.449267</td>\n",
              "    </tr>\n",
              "  </tbody>\n",
              "</table>\n",
              "</div>\n",
              "    <div class=\"colab-df-buttons\">\n",
              "\n",
              "  <div class=\"colab-df-container\">\n",
              "    <button class=\"colab-df-convert\" onclick=\"convertToInteractive('df-2e6ef2c6-6b9e-4ea1-b929-54cefd2c5511')\"\n",
              "            title=\"Convert this dataframe to an interactive table.\"\n",
              "            style=\"display:none;\">\n",
              "\n",
              "  <svg xmlns=\"http://www.w3.org/2000/svg\" height=\"24px\" viewBox=\"0 -960 960 960\">\n",
              "    <path d=\"M120-120v-720h720v720H120Zm60-500h600v-160H180v160Zm220 220h160v-160H400v160Zm0 220h160v-160H400v160ZM180-400h160v-160H180v160Zm440 0h160v-160H620v160ZM180-180h160v-160H180v160Zm440 0h160v-160H620v160Z\"/>\n",
              "  </svg>\n",
              "    </button>\n",
              "\n",
              "  <style>\n",
              "    .colab-df-container {\n",
              "      display:flex;\n",
              "      gap: 12px;\n",
              "    }\n",
              "\n",
              "    .colab-df-convert {\n",
              "      background-color: #E8F0FE;\n",
              "      border: none;\n",
              "      border-radius: 50%;\n",
              "      cursor: pointer;\n",
              "      display: none;\n",
              "      fill: #1967D2;\n",
              "      height: 32px;\n",
              "      padding: 0 0 0 0;\n",
              "      width: 32px;\n",
              "    }\n",
              "\n",
              "    .colab-df-convert:hover {\n",
              "      background-color: #E2EBFA;\n",
              "      box-shadow: 0px 1px 2px rgba(60, 64, 67, 0.3), 0px 1px 3px 1px rgba(60, 64, 67, 0.15);\n",
              "      fill: #174EA6;\n",
              "    }\n",
              "\n",
              "    .colab-df-buttons div {\n",
              "      margin-bottom: 4px;\n",
              "    }\n",
              "\n",
              "    [theme=dark] .colab-df-convert {\n",
              "      background-color: #3B4455;\n",
              "      fill: #D2E3FC;\n",
              "    }\n",
              "\n",
              "    [theme=dark] .colab-df-convert:hover {\n",
              "      background-color: #434B5C;\n",
              "      box-shadow: 0px 1px 3px 1px rgba(0, 0, 0, 0.15);\n",
              "      filter: drop-shadow(0px 1px 2px rgba(0, 0, 0, 0.3));\n",
              "      fill: #FFFFFF;\n",
              "    }\n",
              "  </style>\n",
              "\n",
              "    <script>\n",
              "      const buttonEl =\n",
              "        document.querySelector('#df-2e6ef2c6-6b9e-4ea1-b929-54cefd2c5511 button.colab-df-convert');\n",
              "      buttonEl.style.display =\n",
              "        google.colab.kernel.accessAllowed ? 'block' : 'none';\n",
              "\n",
              "      async function convertToInteractive(key) {\n",
              "        const element = document.querySelector('#df-2e6ef2c6-6b9e-4ea1-b929-54cefd2c5511');\n",
              "        const dataTable =\n",
              "          await google.colab.kernel.invokeFunction('convertToInteractive',\n",
              "                                                    [key], {});\n",
              "        if (!dataTable) return;\n",
              "\n",
              "        const docLinkHtml = 'Like what you see? Visit the ' +\n",
              "          '<a target=\"_blank\" href=https://colab.research.google.com/notebooks/data_table.ipynb>data table notebook</a>'\n",
              "          + ' to learn more about interactive tables.';\n",
              "        element.innerHTML = '';\n",
              "        dataTable['output_type'] = 'display_data';\n",
              "        await google.colab.output.renderOutput(dataTable, element);\n",
              "        const docLink = document.createElement('div');\n",
              "        docLink.innerHTML = docLinkHtml;\n",
              "        element.appendChild(docLink);\n",
              "      }\n",
              "    </script>\n",
              "  </div>\n",
              "\n",
              "\n",
              "<div id=\"df-4e33bb13-16ab-4254-a5ca-1af6804af37d\">\n",
              "  <button class=\"colab-df-quickchart\" onclick=\"quickchart('df-4e33bb13-16ab-4254-a5ca-1af6804af37d')\"\n",
              "            title=\"Suggest charts\"\n",
              "            style=\"display:none;\">\n",
              "\n",
              "<svg xmlns=\"http://www.w3.org/2000/svg\" height=\"24px\"viewBox=\"0 0 24 24\"\n",
              "     width=\"24px\">\n",
              "    <g>\n",
              "        <path d=\"M19 3H5c-1.1 0-2 .9-2 2v14c0 1.1.9 2 2 2h14c1.1 0 2-.9 2-2V5c0-1.1-.9-2-2-2zM9 17H7v-7h2v7zm4 0h-2V7h2v10zm4 0h-2v-4h2v4z\"/>\n",
              "    </g>\n",
              "</svg>\n",
              "  </button>\n",
              "\n",
              "<style>\n",
              "  .colab-df-quickchart {\n",
              "      --bg-color: #E8F0FE;\n",
              "      --fill-color: #1967D2;\n",
              "      --hover-bg-color: #E2EBFA;\n",
              "      --hover-fill-color: #174EA6;\n",
              "      --disabled-fill-color: #AAA;\n",
              "      --disabled-bg-color: #DDD;\n",
              "  }\n",
              "\n",
              "  [theme=dark] .colab-df-quickchart {\n",
              "      --bg-color: #3B4455;\n",
              "      --fill-color: #D2E3FC;\n",
              "      --hover-bg-color: #434B5C;\n",
              "      --hover-fill-color: #FFFFFF;\n",
              "      --disabled-bg-color: #3B4455;\n",
              "      --disabled-fill-color: #666;\n",
              "  }\n",
              "\n",
              "  .colab-df-quickchart {\n",
              "    background-color: var(--bg-color);\n",
              "    border: none;\n",
              "    border-radius: 50%;\n",
              "    cursor: pointer;\n",
              "    display: none;\n",
              "    fill: var(--fill-color);\n",
              "    height: 32px;\n",
              "    padding: 0;\n",
              "    width: 32px;\n",
              "  }\n",
              "\n",
              "  .colab-df-quickchart:hover {\n",
              "    background-color: var(--hover-bg-color);\n",
              "    box-shadow: 0 1px 2px rgba(60, 64, 67, 0.3), 0 1px 3px 1px rgba(60, 64, 67, 0.15);\n",
              "    fill: var(--button-hover-fill-color);\n",
              "  }\n",
              "\n",
              "  .colab-df-quickchart-complete:disabled,\n",
              "  .colab-df-quickchart-complete:disabled:hover {\n",
              "    background-color: var(--disabled-bg-color);\n",
              "    fill: var(--disabled-fill-color);\n",
              "    box-shadow: none;\n",
              "  }\n",
              "\n",
              "  .colab-df-spinner {\n",
              "    border: 2px solid var(--fill-color);\n",
              "    border-color: transparent;\n",
              "    border-bottom-color: var(--fill-color);\n",
              "    animation:\n",
              "      spin 1s steps(1) infinite;\n",
              "  }\n",
              "\n",
              "  @keyframes spin {\n",
              "    0% {\n",
              "      border-color: transparent;\n",
              "      border-bottom-color: var(--fill-color);\n",
              "      border-left-color: var(--fill-color);\n",
              "    }\n",
              "    20% {\n",
              "      border-color: transparent;\n",
              "      border-left-color: var(--fill-color);\n",
              "      border-top-color: var(--fill-color);\n",
              "    }\n",
              "    30% {\n",
              "      border-color: transparent;\n",
              "      border-left-color: var(--fill-color);\n",
              "      border-top-color: var(--fill-color);\n",
              "      border-right-color: var(--fill-color);\n",
              "    }\n",
              "    40% {\n",
              "      border-color: transparent;\n",
              "      border-right-color: var(--fill-color);\n",
              "      border-top-color: var(--fill-color);\n",
              "    }\n",
              "    60% {\n",
              "      border-color: transparent;\n",
              "      border-right-color: var(--fill-color);\n",
              "    }\n",
              "    80% {\n",
              "      border-color: transparent;\n",
              "      border-right-color: var(--fill-color);\n",
              "      border-bottom-color: var(--fill-color);\n",
              "    }\n",
              "    90% {\n",
              "      border-color: transparent;\n",
              "      border-bottom-color: var(--fill-color);\n",
              "    }\n",
              "  }\n",
              "</style>\n",
              "\n",
              "  <script>\n",
              "    async function quickchart(key) {\n",
              "      const quickchartButtonEl =\n",
              "        document.querySelector('#' + key + ' button');\n",
              "      quickchartButtonEl.disabled = true;  // To prevent multiple clicks.\n",
              "      quickchartButtonEl.classList.add('colab-df-spinner');\n",
              "      try {\n",
              "        const charts = await google.colab.kernel.invokeFunction(\n",
              "            'suggestCharts', [key], {});\n",
              "      } catch (error) {\n",
              "        console.error('Error during call to suggestCharts:', error);\n",
              "      }\n",
              "      quickchartButtonEl.classList.remove('colab-df-spinner');\n",
              "      quickchartButtonEl.classList.add('colab-df-quickchart-complete');\n",
              "    }\n",
              "    (() => {\n",
              "      let quickchartButtonEl =\n",
              "        document.querySelector('#df-4e33bb13-16ab-4254-a5ca-1af6804af37d button');\n",
              "      quickchartButtonEl.style.display =\n",
              "        google.colab.kernel.accessAllowed ? 'block' : 'none';\n",
              "    })();\n",
              "  </script>\n",
              "</div>\n",
              "\n",
              "    </div>\n",
              "  </div>\n"
            ],
            "application/vnd.google.colaboratory.intrinsic+json": {
              "type": "dataframe",
              "variable_name": "X",
              "summary": "{\n  \"name\": \"X\",\n  \"rows\": 500,\n  \"fields\": [\n    {\n      \"column\": \"Age\",\n      \"properties\": {\n        \"dtype\": \"number\",\n        \"std\": 1.0010015025043832,\n        \"min\": -1.7403232187505608,\n        \"max\": 1.6987552271007065,\n        \"num_unique_values\": 47,\n        \"samples\": [\n          -1.2917477692916999,\n          0.502554028543744,\n          0.9511294780026049\n        ],\n        \"semantic_type\": \"\",\n        \"description\": \"\"\n      }\n    },\n    {\n      \"column\": \"Income\",\n      \"properties\": {\n        \"dtype\": \"number\",\n        \"std\": 1.0010015025043826,\n        \"min\": -1.6328050990691239,\n        \"max\": 1.8221988738807162,\n        \"num_unique_values\": 499,\n        \"samples\": [\n          -1.502714400268036,\n          0.5790137902886325,\n          0.8008985914377864\n        ],\n        \"semantic_type\": \"\",\n        \"description\": \"\"\n      }\n    },\n    {\n      \"column\": \"Education_Level\",\n      \"properties\": {\n        \"dtype\": \"number\",\n        \"std\": 1.0010015025043824,\n        \"min\": -1.3399236951808213,\n        \"max\": 1.3834984494956448,\n        \"num_unique_values\": 4,\n        \"samples\": [\n          0.4756910679368228,\n          -1.3399236951808213,\n          1.3834984494956448\n        ],\n        \"semantic_type\": \"\",\n        \"description\": \"\"\n      }\n    },\n    {\n      \"column\": \"Credit_Score\",\n      \"properties\": {\n        \"dtype\": \"number\",\n        \"std\": 1.0010015025043832,\n        \"min\": -1.7008444028922107,\n        \"max\": 1.7274434037171649,\n        \"num_unique_values\": 317,\n        \"samples\": [\n          1.3513972092079098,\n          -1.3436005181084185,\n          -1.0991704916774026\n        ],\n        \"semantic_type\": \"\",\n        \"description\": \"\"\n      }\n    },\n    {\n      \"column\": \"Loan_Amount\",\n      \"properties\": {\n        \"dtype\": \"number\",\n        \"std\": 1.0010015025043832,\n        \"min\": -1.8251809531649552,\n        \"max\": 1.682159246265484,\n        \"num_unique_values\": 495,\n        \"samples\": [\n          1.1526056996733398,\n          -0.872774947726845,\n          1.2431399559428244\n        ],\n        \"semantic_type\": \"\",\n        \"description\": \"\"\n      }\n    },\n    {\n      \"column\": \"Loan_Purpose\",\n      \"properties\": {\n        \"dtype\": \"number\",\n        \"std\": 1.0010015025043828,\n        \"min\": -1.4492674574197866,\n        \"max\": 1.3648441103856241,\n        \"num_unique_values\": 5,\n        \"samples\": [\n          -0.042211673517081195,\n          -0.7457395654684339,\n          -1.4492674574197866\n        ],\n        \"semantic_type\": \"\",\n        \"description\": \"\"\n      }\n    }\n  ]\n}"
            }
          },
          "metadata": {},
          "execution_count": 13
        }
      ]
    },
    {
      "cell_type": "markdown",
      "source": [
        "Hasil scaling fitur numerik menunjukkan bahwa seluruh nilai numerik telah dinormalisasi menggunakan StandardScaler, yang mengubah setiap fitur menjadi distribusi dengan mean = 0 dan standard deviation = 1. Ini berarti nilai dalam kolom seperti Age, Income, Credit Score, dan Loan Amount kini berada dalam skala yang lebih seimbang, tanpa perbedaan rentang yang terlalu besar. Proses ini membantu meningkatkan performa model machine learning dengan memastikan bahwa fitur numerik memiliki kontribusi yang seimbang dalam analisis."
      ],
      "metadata": {
        "id": "JfZ1zGOymaPg"
      }
    },
    {
      "cell_type": "markdown",
      "source": [
        "**Bagi dataset menjadi training set (80%) dan testing set (20%)**"
      ],
      "metadata": {
        "id": "1xpDoCZamdLk"
      }
    },
    {
      "cell_type": "code",
      "source": [
        "# Bagi dataset menjadi training (80%) dan testing (20%)\n",
        "X_train, X_test, y_train, y_test = train_test_split(X, y, test_size=0.2, random_state=42)\n",
        "\n",
        "# Cek ukuran dataset setelah split\n",
        "print(\"Training Set Shape (X_train):\", X_train.shape)\n",
        "print(\"Training Labels Shape (y_train):\", y_train.shape)\n",
        "print(\"Testing Set Shape (X_test):\", X_test.shape)\n",
        "print(\"Testing Labels Shape (y_test):\", y_test.shape)"
      ],
      "metadata": {
        "colab": {
          "base_uri": "https://localhost:8080/"
        },
        "id": "kW4RCyB7mii1",
        "outputId": "9e382701-0942-4101-c3a9-5cd78ebf0873"
      },
      "execution_count": 14,
      "outputs": [
        {
          "output_type": "stream",
          "name": "stdout",
          "text": [
            "Training Set Shape (X_train): (400, 6)\n",
            "Training Labels Shape (y_train): (400,)\n",
            "Testing Set Shape (X_test): (100, 6)\n",
            "Testing Labels Shape (y_test): (100,)\n"
          ]
        }
      ]
    },
    {
      "cell_type": "markdown",
      "source": [
        "Hasil output menunjukkan bahwa dataset telah berhasil dibagi menjadi training set dan testing set dengan ukuran masing-masing (400, 6) dan (100, 6). Ini berarti terdapat 400 sampel dengan 6 fitur dalam training set dan 100 sampel dengan 6 fitur dalam testing set. Proporsi ini sesuai dengan pembagian 80% untuk training dan 20% untuk testing."
      ],
      "metadata": {
        "id": "z7iDHmfJmpwh"
      }
    },
    {
      "cell_type": "code",
      "source": [
        "# Cek apakah y_train sudah benar (0 dan 1)\n",
        "print(\"Unique values in y_train:\", np.unique(y_train))"
      ],
      "metadata": {
        "colab": {
          "base_uri": "https://localhost:8080/"
        },
        "id": "_V-PdTdIAYLm",
        "outputId": "20b0ca3f-5c72-4685-b210-1c1b366757b1"
      },
      "execution_count": 15,
      "outputs": [
        {
          "output_type": "stream",
          "name": "stdout",
          "text": [
            "Unique values in y_train: [0 1]\n"
          ]
        }
      ]
    },
    {
      "cell_type": "markdown",
      "source": [
        "Pengecekan nilai unik pada y_train bertujuan untuk memastikan bahwa label target hanya terdiri dari dua kelas, yaitu 0 dan 1, yang sesuai dengan format yang dibutuhkan oleh model klasifikasi biner. Jika hasilnya menunjukkan nilai selain 0 dan 1, berarti ada kesalahan dalam proses encoding atau pemrosesan data sebelumnya yang perlu diperbaiki sebelum melanjutkan ke tahap pelatihan model."
      ],
      "metadata": {
        "id": "x04feSQTBztj"
      }
    },
    {
      "cell_type": "markdown",
      "source": [
        "# Pemilihan dan Training Model"
      ],
      "metadata": {
        "id": "WaqCtCSjx5bn"
      }
    },
    {
      "cell_type": "markdown",
      "source": [
        "**Pilih minimal dua algoritma Machine Learning yang berbeda. Jelaskan alasan pemilihan tersebut.**"
      ],
      "metadata": {
        "id": "28BYUEXsS9Fn"
      }
    },
    {
      "cell_type": "markdown",
      "source": [
        "1. Logistic Regression dipilih karena model ini sederhana, interpretatif, dan efektif dalam menangani masalah klasifikasi biner seperti persetujuan pinjaman. Selain itu, logistic regression memberikan probabilitas sebagai output, yang dapat membantu dalam memahami faktor-faktor yang memengaruhi keputusan persetujuan pinjaman.\n",
        "\n",
        "2. Random Forest dipilih karena merupakan model berbasis pohon keputusan yang kuat dan dapat menangani data dengan fitur numerik serta kategorikal. Algoritma ini juga mampu menangani outlier serta menangkap interaksi kompleks antarvariabel, sehingga dapat memberikan prediksi yang lebih akurat dibandingkan model linier sederhana.\n",
        "\n",
        "3. XGBoost dipilih karena merupakan algoritma berbasis pohon yang unggul dalam menangani dataset dengan jumlah fitur yang besar serta mampu mengatasi overfitting melalui regularisasi bawaan. Selain itu, XGBoost memiliki kecepatan komputasi yang tinggi dibandingkan algoritma berbasis boosting lainnya, berkat optimasi penggunaan memori dan teknik paralelisasi."
      ],
      "metadata": {
        "id": "uyj0P_G2TlRt"
      }
    },
    {
      "cell_type": "markdown",
      "source": [
        "**Lakukan training model menggunakan dataset yang telah diproses**"
      ],
      "metadata": {
        "id": "sbbCYycbT9Pf"
      }
    },
    {
      "cell_type": "code",
      "source": [
        "from sklearn.ensemble import RandomForestClassifier\n",
        "from sklearn.linear_model import LogisticRegression\n",
        "from xgboost import XGBClassifier\n",
        "from sklearn.metrics import classification_report, accuracy_score"
      ],
      "metadata": {
        "id": "ehwl7I8nuEl5"
      },
      "execution_count": 16,
      "outputs": []
    },
    {
      "source": [
        "# Logistic Regression\n",
        "logreg_model = LogisticRegression(solver='liblinear')\n",
        "logreg_model.fit(X_train, y_train)\n",
        "y_pred_log = logreg_model.predict(X_test)"
      ],
      "cell_type": "code",
      "metadata": {
        "id": "spUtZXT4v5Nf"
      },
      "execution_count": 17,
      "outputs": []
    },
    {
      "source": [
        "# Random Forest\n",
        "rf_model = RandomForestClassifier(n_estimators=100, random_state=0, max_depth=70, bootstrap=True)\n",
        "rf_model.fit(X_train, y_train)\n",
        "y_pred_rf = rf_model.predict(X_test)"
      ],
      "cell_type": "code",
      "metadata": {
        "id": "molAYHlKwBgL"
      },
      "execution_count": 18,
      "outputs": []
    },
    {
      "cell_type": "code",
      "source": [
        "# XGBoost\n",
        "xgb_model = XGBClassifier(n_estimators=100, learning_rate=0.1, max_depth=6, random_state=42)\n",
        "xgb_model.fit(X_train, y_train)\n",
        "y_pred_xgb = xgb_model.predict(X_test)"
      ],
      "metadata": {
        "id": "81_OME3cInFT"
      },
      "execution_count": 19,
      "outputs": []
    },
    {
      "cell_type": "markdown",
      "source": [
        "# Evaluasi Model"
      ],
      "metadata": {
        "id": "dYm0caSqyf2H"
      }
    },
    {
      "cell_type": "markdown",
      "source": [
        "**Hitung dan bandingkan metric evaluasi dari kedua model yang dipilih**"
      ],
      "metadata": {
        "id": "PBIQ2bTIUkd5"
      }
    },
    {
      "cell_type": "code",
      "source": [
        "# Evaluasi Logistic Regression\n",
        "print(\"Logistic Regression Accuracy:\", accuracy_score(y_test, y_pred_log))\n",
        "print(classification_report(y_pred_log, y_test))"
      ],
      "metadata": {
        "colab": {
          "base_uri": "https://localhost:8080/"
        },
        "id": "eRQ2W_DIxE-a",
        "outputId": "baac21be-e495-485d-fa5e-c9b5bf321508"
      },
      "execution_count": 20,
      "outputs": [
        {
          "output_type": "stream",
          "name": "stdout",
          "text": [
            "Logistic Regression Accuracy: 0.64\n",
            "              precision    recall  f1-score   support\n",
            "\n",
            "           0       0.03      1.00      0.05         1\n",
            "           1       1.00      0.64      0.78        99\n",
            "\n",
            "    accuracy                           0.64       100\n",
            "   macro avg       0.51      0.82      0.42       100\n",
            "weighted avg       0.99      0.64      0.77       100\n",
            "\n"
          ]
        }
      ]
    },
    {
      "cell_type": "code",
      "source": [
        "# Evaluasi Random Forest\n",
        "print(\"Random Forest Accuracy:\", accuracy_score(y_pred_rf, y_test))\n",
        "print(classification_report(y_pred_rf, y_test))"
      ],
      "metadata": {
        "colab": {
          "base_uri": "https://localhost:8080/"
        },
        "id": "XW0OZPTDDU9i",
        "outputId": "83129be1-c895-4472-bc2f-eee69a71e821"
      },
      "execution_count": 21,
      "outputs": [
        {
          "output_type": "stream",
          "name": "stdout",
          "text": [
            "Random Forest Accuracy: 0.5\n",
            "              precision    recall  f1-score   support\n",
            "\n",
            "           0       0.30      0.31      0.31        35\n",
            "           1       0.62      0.60      0.61        65\n",
            "\n",
            "    accuracy                           0.50       100\n",
            "   macro avg       0.46      0.46      0.46       100\n",
            "weighted avg       0.51      0.50      0.50       100\n",
            "\n"
          ]
        }
      ]
    },
    {
      "cell_type": "code",
      "source": [
        "# Evaluasi XGBoost\n",
        "print(\"XGBoost Accuracy:\", accuracy_score(y_test, y_pred_xgb))\n",
        "print(classification_report(y_test, y_pred_xgb))"
      ],
      "metadata": {
        "colab": {
          "base_uri": "https://localhost:8080/"
        },
        "id": "V_kWpcJeJYSJ",
        "outputId": "8dfa9ac6-1f3b-49e2-e8ad-f855786d275c"
      },
      "execution_count": 22,
      "outputs": [
        {
          "output_type": "stream",
          "name": "stdout",
          "text": [
            "XGBoost Accuracy: 0.63\n",
            "              precision    recall  f1-score   support\n",
            "\n",
            "           0       0.50      0.46      0.48        37\n",
            "           1       0.70      0.73      0.71        63\n",
            "\n",
            "    accuracy                           0.63       100\n",
            "   macro avg       0.60      0.59      0.60       100\n",
            "weighted avg       0.62      0.63      0.63       100\n",
            "\n"
          ]
        }
      ]
    },
    {
      "cell_type": "markdown",
      "source": [
        "Pada evaluasi model, accuracy_score digunakan untuk menghitung akurasi prediksi dari masing-masing model, yaitu Logistic Regression dan Random Forest. Selain itu, classification_report menampilkan metrik evaluasi seperti precision, recall, dan f1-score untuk masing-masing kelas dalam dataset. Hasil evaluasi kedua model kemudian dibandingkan untuk menentukan model dengan performa terbaik berdasarkan akurasi dan metrik lainnya.\n"
      ],
      "metadata": {
        "id": "6GBTg09-Dx1f"
      }
    },
    {
      "cell_type": "code",
      "source": [
        "from sklearn.metrics import confusion_matrix\n",
        "\n",
        "# Fungsi untuk menampilkan confusion matrix\n",
        "def plot_confusion_matrix(y_test, y_pred, model_name):\n",
        "    cm = confusion_matrix(y_test, y_pred)\n",
        "    plt.figure(figsize=(5,4))\n",
        "    sns.heatmap(cm, annot=True, fmt='d', cmap='Blues', xticklabels=['Negative', 'Positive'], yticklabels=['Negative', 'Positive'])\n",
        "    plt.xlabel(\"Predicted\")\n",
        "    plt.ylabel(\"Actual\")\n",
        "    plt.title(f\"Confusion Matrix - {model_name}\")\n",
        "    plt.show()\n",
        "\n",
        "# Confusion Matrix untuk Logistic Regression\n",
        "plot_confusion_matrix(y_test, y_pred_log, \"Logistic Regression\")\n",
        "\n",
        "# Confusion Matrix untuk Random Forest\n",
        "plot_confusion_matrix(y_test, y_pred_rf, \"Random Forest\")\n",
        "\n",
        "# Confusion Matrix untuk XGBoost\n",
        "plot_confusion_matrix(y_test, y_pred_xgb, \"XGBoost\")\n"
      ],
      "metadata": {
        "colab": {
          "base_uri": "https://localhost:8080/",
          "height": 1000
        },
        "id": "6BqkUJMTP7ky",
        "outputId": "e80fdbb2-40b3-4f52-c9ad-3ecfedc55a78"
      },
      "execution_count": 23,
      "outputs": [
        {
          "output_type": "display_data",
          "data": {
            "text/plain": [
              "<Figure size 500x400 with 2 Axes>"
            ],
            "image/png": "[encoded data removed]"
          },
          "metadata": {}
        },
        {
          "output_type": "display_data",
          "data": {
            "text/plain": [
              "<Figure size 500x400 with 2 Axes>"
            ],
            "image/png": "[encoded data removed]"
          },
          "metadata": {}
        },
        {
          "output_type": "display_data",
          "data": {
            "text/plain": [
              "<Figure size 500x400 with 2 Axes>"
            ],
            "image/png": "[encoded data removed]"
          },
          "metadata": {}
        }
      ]
    },
    {
      "cell_type": "markdown",
      "source": [
        "**Pilih model dengan performa terbaik untuk tahap tuning**"
      ],
      "metadata": {
        "id": "PZ1AJLvDUofX"
      }
    },
    {
      "cell_type": "markdown",
      "source": [
        "Meskipun Logistic Regression memiliki akurasi 0.64, sedangkan XGBoost hanya 0.63, XGBoost tetap menjadi pilihan terbaik untuk tahap tuning karena memiliki fleksibilitas yang lebih tinggi dalam menangani data yang kompleks. XGBoost menggunakan teknik boosting, yang memungkinkan model untuk memperbaiki kesalahan prediksi secara iteratif, sehingga berpotensi lebih unggul setelah tuning dibandingkan dengan Logistic Regression, yang merupakan model linear dan lebih terbatas dalam menangkap pola non-linear. Selain itu, XGBoost sering kali lebih tahan terhadap overfitting dan dapat dioptimalkan lebih lanjut dengan berbagai hyperparameter, seperti jumlah estimators, learning rate, dan max depth, yang bisa meningkatkan performanya setelah tuning."
      ],
      "metadata": {
        "id": "UtMa5blT3rzi"
      }
    },
    {
      "cell_type": "markdown",
      "source": [
        "# Tuning Model dengan Grid Search atau Random Search"
      ],
      "metadata": {
        "id": "WkR7n240yjhC"
      }
    },
    {
      "cell_type": "code",
      "source": [
        "from sklearn.model_selection import GridSearchCV\n",
        "from sklearn.model_selection import RandomizedSearchCV"
      ],
      "metadata": {
        "id": "bSnU2EVYjj6U"
      },
      "execution_count": 24,
      "outputs": []
    },
    {
      "cell_type": "markdown",
      "source": [
        "**Gunakan Grid Search atau Random Search untuk mencari kombinasi hyperparameter\n",
        "terbaik**"
      ],
      "metadata": {
        "id": "ENiRWOONi1kA"
      }
    },
    {
      "cell_type": "markdown",
      "source": [
        "**Tampilkan kombinasi hyperparameter terbaik yang diperoleh.**"
      ],
      "metadata": {
        "id": "zVuO8jfGjNYw"
      }
    },
    {
      "cell_type": "code",
      "source": [
        "# Definisi parameter yang akan diuji\n",
        "param_grid = {\n",
        "    'n_estimators': [50, 100, 150],\n",
        "    'max_depth': [3, 5, 7],\n",
        "    'learning_rate': [0.01, 0.1, 0.2],\n",
        "    'subsample': [0.8, 1.0],\n",
        "    'colsample_bytree': [0.8, 1.0]\n",
        "}\n",
        "\n",
        "# Grid Search dengan 5-fold cross-validation\n",
        "grid_search = GridSearchCV(\n",
        "    estimator=xgb.XGBClassifier(use_label_encoder=False, eval_metric='logloss', random_state=42),\n",
        "    param_grid=param_grid,\n",
        "    cv=5,\n",
        "    scoring='accuracy',\n",
        "    verbose=1,\n",
        "    n_jobs=-1\n",
        ")\n",
        "\n",
        "# Train Grid Search\n",
        "grid_search.fit(X_train, y_train)\n",
        "\n",
        "# Tampilkan parameter terbaik\n",
        "print(\"Best Parameters (Grid Search):\", grid_search.best_params_)\n",
        "print(\"Best Score (Grid Search):\", grid_search.best_score_)"
      ],
      "metadata": {
        "colab": {
          "base_uri": "https://localhost:8080/"
        },
        "id": "XIYWJk9NRLtQ",
        "outputId": "23de3cd8-0c90-4e65-8982-ed9e14384da6"
      },
      "execution_count": 30,
      "outputs": [
        {
          "output_type": "stream",
          "name": "stdout",
          "text": [
            "Fitting 5 folds for each of 108 candidates, totalling 540 fits\n",
            "Best Parameters (Grid Search): {'colsample_bytree': 0.8, 'learning_rate': 0.01, 'max_depth': 3, 'n_estimators': 50, 'subsample': 0.8}\n",
            "Best Score (Grid Search): 0.5875\n"
          ]
        },
        {
          "output_type": "stream",
          "name": "stderr",
          "text": [
            "/usr/local/lib/python3.11/dist-packages/xgboost/core.py:158: UserWarning: [05:11:06] WARNING: /workspace/src/learner.cc:740: \n",
            "Parameters: { \"use_label_encoder\" } are not used.\n",
            "\n",
            "  warnings.warn(smsg, UserWarning)\n"
          ]
        }
      ]
    },
    {
      "cell_type": "markdown",
      "source": [
        "# Perbandingan Performa Sebelum dan Sesudah Tuning"
      ],
      "metadata": {
        "id": "DFFUh4gfymcW"
      }
    },
    {
      "cell_type": "markdown",
      "source": [
        "**Bandingkan hasil evaluasi model sebelum dan sesudah tuning.**"
      ],
      "metadata": {
        "id": "JioqgqtMjSze"
      }
    },
    {
      "cell_type": "code",
      "source": [
        "# Model dengan hyperparameter terbaik\n",
        "tuned_xgb = xgb.XGBClassifier(**grid_search.best_params_, use_label_encoder=False, eval_metric='logloss', random_state=42)\n",
        "tuned_xgb.fit(X_train, y_train)\n",
        "y_pred_tuned_xgb = tuned_xgb.predict(X_test)\n",
        "\n",
        "# Evaluasi setelah tuning\n",
        "print(\"XGBoost (Setelah Tuning)\")\n",
        "print(\"Accuracy:\", accuracy_score(y_test, y_pred_tuned_xgb))\n",
        "print(classification_report(y_test, y_pred_tuned_xgb))"
      ],
      "metadata": {
        "colab": {
          "base_uri": "https://localhost:8080/"
        },
        "id": "JpEITnCEUqpv",
        "outputId": "b31d7188-4dec-4e0c-cd85-654d5527ff7d"
      },
      "execution_count": 37,
      "outputs": [
        {
          "output_type": "stream",
          "name": "stdout",
          "text": [
            "XGBoost (Setelah Tuning)\n",
            "Accuracy: 0.63\n",
            "              precision    recall  f1-score   support\n",
            "\n",
            "           0       0.00      0.00      0.00        37\n",
            "           1       0.63      1.00      0.77        63\n",
            "\n",
            "    accuracy                           0.63       100\n",
            "   macro avg       0.32      0.50      0.39       100\n",
            "weighted avg       0.40      0.63      0.49       100\n",
            "\n"
          ]
        },
        {
          "output_type": "stream",
          "name": "stderr",
          "text": [
            "/usr/local/lib/python3.11/dist-packages/xgboost/core.py:158: UserWarning: [05:15:02] WARNING: /workspace/src/learner.cc:740: \n",
            "Parameters: { \"use_label_encoder\" } are not used.\n",
            "\n",
            "  warnings.warn(smsg, UserWarning)\n",
            "/usr/local/lib/python3.11/dist-packages/sklearn/metrics/_classification.py:1565: UndefinedMetricWarning: Precision is ill-defined and being set to 0.0 in labels with no predicted samples. Use `zero_division` parameter to control this behavior.\n",
            "  _warn_prf(average, modifier, f\"{metric.capitalize()} is\", len(result))\n",
            "/usr/local/lib/python3.11/dist-packages/sklearn/metrics/_classification.py:1565: UndefinedMetricWarning: Precision is ill-defined and being set to 0.0 in labels with no predicted samples. Use `zero_division` parameter to control this behavior.\n",
            "  _warn_prf(average, modifier, f\"{metric.capitalize()} is\", len(result))\n",
            "/usr/local/lib/python3.11/dist-packages/sklearn/metrics/_classification.py:1565: UndefinedMetricWarning: Precision is ill-defined and being set to 0.0 in labels with no predicted samples. Use `zero_division` parameter to control this behavior.\n",
            "  _warn_prf(average, modifier, f\"{metric.capitalize()} is\", len(result))\n"
          ]
        }
      ]
    },
    {
      "cell_type": "code",
      "source": [
        "# Buat DataFrame hasil evaluasi\n",
        "results = pd.DataFrame({\n",
        "    \"Model\": [\"XGBoost Sebelum Tuning\", \"XGBoost Setelah Tuning\"],\n",
        "    \"Accuracy\": [accuracy_score(y_test, y_pred_xgb), accuracy_score(y_test, y_pred_tuned_xgb)]\n",
        "})\n",
        "\n",
        "print(results)"
      ],
      "metadata": {
        "colab": {
          "base_uri": "https://localhost:8080/"
        },
        "id": "6pRcJv_tXvlT",
        "outputId": "f6112b36-904c-4db8-d943-36f9a95fdfcb"
      },
      "execution_count": 38,
      "outputs": [
        {
          "output_type": "stream",
          "name": "stdout",
          "text": [
            "                    Model  Accuracy\n",
            "0  XGBoost Sebelum Tuning      0.63\n",
            "1  XGBoost Setelah Tuning      0.63\n"
          ]
        }
      ]
    },
    {
      "cell_type": "code",
      "source": [
        "# Hitung Confusion Matrix\n",
        "cm = confusion_matrix(y_test, y_pred_xgb_tuned)\n",
        "\n",
        "# Visualisasi Confusion Matrix\n",
        "plt.figure(figsize=(6, 4))\n",
        "sns.heatmap(cm, annot=True, fmt='d', cmap='Blues', xticklabels=[\"No\", \"Yes\"], yticklabels=[\"No\", \"Yes\"])\n",
        "plt.xlabel(\"Predicted Label\")\n",
        "plt.ylabel(\"True Label\")\n",
        "plt.title(\"Confusion Matrix - XGBoost (Setelah Tuning)\")\n",
        "plt.show()"
      ],
      "metadata": {
        "colab": {
          "base_uri": "https://localhost:8080/",
          "height": 410
        },
        "id": "Sqsojr4hSWWl",
        "outputId": "d24acda4-4f15-4242-bd6a-3cc9ef6bf96e"
      },
      "execution_count": 29,
      "outputs": [
        {
          "output_type": "display_data",
          "data": {
            "text/plain": [
              "<Figure size 600x400 with 2 Axes>"
            ],
            "image/png": "[encoded data removed]"
          },
          "metadata": {}
        }
      ]
    },
    {
      "cell_type": "markdown",
      "source": [
        "**Jelaskan apakah tuning berhasil meningkatkan performa model.**"
      ],
      "metadata": {
        "id": "dkTyoMr9jYI6"
      }
    },
    {
      "cell_type": "markdown",
      "source": [
        "Tuning yang dilakukan pada model XGBoost tidak berhasil meningkatkan performa, sebagaimana terlihat dari akurasi yang tetap sama, yaitu 0.63, sebelum dan sesudah tuning. Hal ini menunjukkan bahwa perubahan hyperparameter tidak memberikan dampak signifikan terhadap kemampuan model dalam melakukan prediksi."
      ],
      "metadata": {
        "id": "iTJfGqkSPEvQ"
      }
    }
  ]
}